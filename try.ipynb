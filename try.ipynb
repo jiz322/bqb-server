{
 "cells": [
  {
   "cell_type": "code",
   "execution_count": 3,
   "metadata": {},
   "outputs": [
    {
     "name": "stdout",
     "output_type": "stream",
     "text": [
      "{'results': [['奥特曼00113-好骚的气味捂住.gif', 0.5872295498847961], ['奥特曼00144-奥特曼的蔑视.jpg', 0.5484305024147034], ['奥特曼00269-作为一个奥特曼我完全看不起你.jpg', 0.5357270836830139], ['奥特曼00165-你们是我带过最差的一届奥特曼.jpg', 0.5048675537109375], ['奥特曼00278-奥特抬棺.jpg', 0.4997127950191498]]}\n"
     ]
    }
   ],
   "source": [
    "import requests\n",
    "\n",
    "url = \"http://localhost:8000/similar\"\n",
    "payload = {\n",
    "    \"text\": \"臭 奥特曼\",\n",
    "    \"instruction\": \"Find a expressive image that matches the given text.\",\n",
    "    \"k\": 5,\n",
    "    \"similarity_type\": \"cosine\"\n",
    "}\n",
    "\n",
    "response = requests.post(url, json=payload)\n",
    "print(response.json())\n"
   ]
  }
 ],
 "metadata": {
  "kernelspec": {
   "display_name": "base",
   "language": "python",
   "name": "python3"
  },
  "language_info": {
   "codemirror_mode": {
    "name": "ipython",
    "version": 3
   },
   "file_extension": ".py",
   "mimetype": "text/x-python",
   "name": "python",
   "nbconvert_exporter": "python",
   "pygments_lexer": "ipython3",
   "version": "3.11.5"
  }
 },
 "nbformat": 4,
 "nbformat_minor": 2
}
