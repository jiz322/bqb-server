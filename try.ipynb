{
 "cells": [
  {
   "cell_type": "code",
   "execution_count": 10,
   "metadata": {},
   "outputs": [
    {
     "name": "stdout",
     "output_type": "stream",
     "text": [
      "{'results': [['可爱的女孩纸00065-翻白眼.gif', 0.8005833029747009], ['同福客栈00090-翻白眼.JPG', 0.7624417543411255], ['苏大强00012-白眼发射.gif', 0.6629498600959778], ['可爱的女孩纸00025-对方白了你一眼并不想理你.jpg', 0.5958889722824097], ['北方栖姬00277-鄙视你.jpg', 0.5686330199241638]]}\n"
     ]
    }
   ],
   "source": [
    "import requests\n",
    "\n",
    "url = \"http://localhost:8000/search_k\"\n",
    "payload = {\n",
    "    \"text\": \"翻白眼\",\n",
    "    \"k\": 5,\n",
    "    \"similarity_type\": \"cosine\"\n",
    "}\n",
    "\n",
    "response = requests.post(url, json=payload)\n",
    "print(response.json())\n"
   ]
  }
 ],
 "metadata": {
  "kernelspec": {
   "display_name": "base",
   "language": "python",
   "name": "python3"
  },
  "language_info": {
   "codemirror_mode": {
    "name": "ipython",
    "version": 3
   },
   "file_extension": ".py",
   "mimetype": "text/x-python",
   "name": "python",
   "nbconvert_exporter": "python",
   "pygments_lexer": "ipython3",
   "version": "3.11.5"
  }
 },
 "nbformat": 4,
 "nbformat_minor": 2
}
